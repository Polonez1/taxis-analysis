{
 "cells": [
  {
   "cell_type": "code",
   "execution_count": 28,
   "metadata": {},
   "outputs": [],
   "source": [
    "import seaborn as sns\n",
    "import pandas as pd\n",
    "import numpy as np\n",
    "\n",
    "df = df = sns.load_dataset(\"taxis\")"
   ]
  },
  {
   "attachments": {},
   "cell_type": "markdown",
   "metadata": {},
   "source": [
    "declare:\n",
    "gasoline price/km - 1,4 (default)\n",
    "auto utilization cost/1000 km - 215 (default)\n",
    "gasoline used/100km - 5L\n",
    "tolls - value"
   ]
  },
  {
   "cell_type": "code",
   "execution_count": 164,
   "metadata": {},
   "outputs": [],
   "source": [
    "\n",
    "def distance_group_column(df: pd.DataFrame)-> pd.DataFrame:\n",
    "    \"returned new column with distance group names\"\n",
    "    df['distance_group'] = np.where(df['distance'] < 5, 'short', \n",
    "                        np.where((df['distance'] >= 5) & (df['distance'] < 15), 'medium', 'long'))\n",
    "    return df\n",
    "\n",
    "    \n",
    "def calculate_gasoline_consumption(df: pd.DataFrame)-> pd.DataFrame:\n",
    "    \"calculate gasoline consuption cost\"\n",
    "    gasoline_consuption = 5\n",
    "    gasoline_price = 1.4\n",
    "    df = df.assign(gas_expense = lambda x: gasoline_consuption * x['distance']/100*gasoline_price)\n",
    "    return df\n",
    "    \n",
    "def calculate_auto_utilization(df: pd.DataFrame)->pd.DataFrame:\n",
    "    \"calculate auto utilization cost\"\n",
    "    auto_utilization_cost = 215\n",
    "    df = df.assign(utilization_cost = lambda x: auto_utilization_cost * x['distance']/1000)\n",
    "    return df\n",
    "\n",
    "def group_by_distance(df: pd.DataFrame) -> pd.DataFrame:\n",
    "    \"group by distance and calculate profit\"\n",
    "    df = df.groupby(['distance_group'] ).agg(\n",
    "            count_summons = ('pickup','count'),\n",
    "            dist_avg = ('distance','mean'),\n",
    "            dist_total = ('distance','sum'),\n",
    "            dist_min = ('distance', 'min'),\n",
    "            dist_max = ('distance', 'max'),\n",
    "           fare = ('fare','sum'),\n",
    "           tips = ('tip', 'sum'),\n",
    "           tolls = ('tolls', 'sum'),\n",
    "           gas_expense = ('gas_expense', 'sum'),\n",
    "           auto_utilization_cost = ('utilization_cost', 'sum'),\n",
    "           hours_sum = ('work_hours','sum')\n",
    "        ).reset_index()\n",
    "    return df  \n",
    "\n",
    "def calculate_work_hours(df: pd.DataFrame)-> pd.DataFrame:\n",
    "    \n",
    "    df = df.assign(date_diff = lambda x: x['dropoff'] - x['pickup'])\n",
    "    df = df.assign(work_hours = lambda x: x['date_diff'].dt.total_seconds() / 60 / 60)\n",
    "    \n",
    "    return df\n",
    "\n",
    "def calculate_profit_by_hour(df: pd.DataFrame)-> pd.DataFrame:\n",
    "    df = df.assign(profit_per_hour = lambda x: x['total']/x['hours_sum'])\n",
    "    \n",
    "    return df\n",
    "    \n",
    "    \n",
    "\n",
    "def calculate_total_profit(df: pd.DataFrame)->pd.DataFrame:\n",
    "    \"Get total profit\"\n",
    "    df = df.assign(total = lambda x: sum([x['fare'],x['tips']-sum([x['tolls'],x['gas_expense'],x['auto_utilization_cost']])]))\n",
    "    return df\n",
    "\n"
   ]
  },
  {
   "cell_type": "code",
   "execution_count": 165,
   "metadata": {},
   "outputs": [],
   "source": [
    "df = df = sns.load_dataset(\"taxis\")\n",
    "\n",
    "df = distance_group_column(df)\n",
    "df = calculate_work_hours(df)\n",
    "df = calculate_gasoline_consumption(df)\n",
    "df = calculate_auto_utilization(df)\n",
    "df = group_by_distance(df)\n",
    "df = calculate_total_profit(df)\n",
    "df = calculate_profit_by_hour(df)\n",
    "\n",
    "# most profitable - long distances"
   ]
  }
 ],
 "metadata": {
  "kernelspec": {
   "display_name": "Python 3",
   "language": "python",
   "name": "python3"
  },
  "language_info": {
   "codemirror_mode": {
    "name": "ipython",
    "version": 3
   },
   "file_extension": ".py",
   "mimetype": "text/x-python",
   "name": "python",
   "nbconvert_exporter": "python",
   "pygments_lexer": "ipython3",
   "version": "3.10.5"
  },
  "orig_nbformat": 4
 },
 "nbformat": 4,
 "nbformat_minor": 2
}
