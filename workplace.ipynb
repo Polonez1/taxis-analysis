{
 "cells": [
  {
   "cell_type": "code",
   "execution_count": 24,
   "metadata": {},
   "outputs": [],
   "source": [
    "import pandas as pd\n",
    "import pandera as pa\n",
    "from pandera.typing import Index, DataFrame, Series\n",
    "from datetime import datetime\n",
    "from pandera import dtypes\n",
    "import logging as log\n",
    "\n",
    "import config\n",
    "config.log\n",
    "\n",
    "class InputSchema:\n",
    "    class YellowTripData(pa.SchemaModel):\n",
    "        VendorID: Series[int] = pa.Field(coerce=True, nullable=True)\n",
    "        tpep_pickup_datetime: Series[pa.DateTime] = pa.Field(coerce=True)\n",
    "        tpep_dropoff_datetime: Series[pa.DateTime] = pa.Field(coerce=True)\n",
    "        passenger_count: Series[float] = pa.Field(coerce=True, nullable=True)\n",
    "        trip_distance: Series[float] = pa.Field(coerce=True, nullable=True)\n",
    "        RatecodeID: Series[float] = pa.Field(coerce=True, nullable=True)\n",
    "        store_and_fwd_flag: Series[str] = pa.Field(coerce=True, nullable=True)\n",
    "        PULocationID: Series[int] = pa.Field(coerce=True, nullable=True)\n",
    "        DOLocationID: Series[int] = pa.Field(coerce=True, nullable=True)\n",
    "        payment_type: Series[int] = pa.Field(coerce=True, nullable=True)\n",
    "        fare_amount: Series[float] = pa.Field(coerce=True, nullable=True)\n",
    "        extra: Series[float] = pa.Field(coerce=True, nullable=True)\n",
    "        mta_tax: Series[float] = pa.Field(coerce=True, nullable=True)\n",
    "        tip_amount: Series[float] = pa.Field(coerce=True, nullable=True)\n",
    "        tolls_amount: Series[float] = pa.Field(coerce=True, nullable=True)\n",
    "        improvement_surcharge: Series[float] = pa.Field(coerce=True, nullable=True)\n",
    "        total_amount: Series[float] = pa.Field(coerce=True, nullable=True)\n",
    "        congestion_surcharge: Series[float] = pa.Field(coerce=True, nullable=True)\n",
    "        airport_fee: Series[float] = pa.Field(coerce=True, nullable=True)\n",
    "\n",
    "class OutputSchema:\n",
    "    class YellowTripData(InputSchema.YellowTripData):\n",
    "        pass\n",
    "    \n",
    "       \n",
    "@pa.check_types\n",
    "def transform_YellowTripData(\n",
    "    df: DataFrame[InputSchema.YellowTripData]) -> DataFrame[OutputSchema.YellowTripData]:\n",
    "    log.info(f\"Table YellowTripData validation complete. DataFrame shape: {df.shape}\")\n",
    "    return df\n",
    "        \n",
    "        \n",
    "        \n",
    "        "
   ]
  },
  {
   "cell_type": "code",
   "execution_count": null,
   "metadata": {},
   "outputs": [],
   "source": [
    "import pandas as pd\n",
    "import pandera as pa\n",
    "from pandera.typing import Index, DataFrame, Series\n",
    "from datetime import datetime\n",
    "from pandera import dtypes\n",
    "\n",
    "\n",
    "class InputSchema:\n",
    "    class GlobalTempSchema(pa.SchemaModel):\n",
    "        dt: Series[pa.DateTime] = pa.Field(coerce=True)\n",
    "        LandAverageTemperature: Series[float] = pa.Field(coerce=True, nullable=True)\n",
    "        LandAverageTemperatureUncertainty: Series[float] = pa.Field(\n",
    "            coerce=True, nullable=True\n",
    "        )\n",
    "        LandMaxTemperature: Series[float] = pa.Field(coerce=True, nullable=True)\n",
    "        LandMaxTemperatureUncertainty: Series[float] = pa.Field(\n",
    "            coerce=True, nullable=True\n",
    "        )\n",
    "        LandMinTemperatureUncertainty: Series[float] = pa.Field(\n",
    "            coerce=True, nullable=True\n",
    "        )\n",
    "        LandAndOceanAverageTemperature: Series[float] = pa.Field(\n",
    "            coerce=True, nullable=True\n",
    "        )\n",
    "        LandAndOceanAverageTemperatureUncertainty: Series[float] = pa.Field(\n",
    "            coerce=True, nullable=True\n",
    "        )\n",
    "\n",
    "    class GlobalLandTemperature(pa.SchemaModel):\n",
    "        dt: Series[pa.DateTime] = pa.Field(coerce=True)\n",
    "        AverageTemperature: Series[float] = pa.Field(coerce=True, nullable=True)\n",
    "        AverageTemperatureUncertainty: Series[float] = pa.Field(\n",
    "            coerce=True, nullable=True\n",
    "        )\n",
    "        City: Series[str] = pa.Field(coerce=True, nullable=True)\n",
    "        Country: Series[str] = pa.Field(coerce=True, nullable=True)\n",
    "        Latitude: Series[str] = pa.Field(coerce=True, nullable=True)\n",
    "        Longitude: Series[str] = pa.Field(coerce=True, nullable=True)\n",
    "\n",
    "\n",
    "class OutputSchema:\n",
    "    class GlobalTempSchema(InputSchema.GlobalTempSchema):\n",
    "        pass\n",
    "\n",
    "    class GlobalLandTemperature(InputSchema.GlobalLandTemperature):\n",
    "        pass\n",
    "\n",
    "\n",
    "@pa.check_types\n",
    "def transform_globaltempschema(\n",
    "    df: DataFrame[InputSchema.GlobalTempSchema],\n",
    ") -> DataFrame[OutputSchema.GlobalTempSchema]:\n",
    "    return df\n",
    "\n",
    "\n",
    "@pa.check_types\n",
    "def transform_globallandtemp(\n",
    "    df: DataFrame[InputSchema.GlobalLandTemperature],\n",
    ") -> DataFrame[OutputSchema.GlobalLandTemperature]:\n",
    "    return df\n"
   ]
  },
  {
   "cell_type": "code",
   "execution_count": 1,
   "metadata": {},
   "outputs": [
    {
     "name": "stdout",
     "output_type": "stream",
     "text": [
      "INFO:root:Table YellowTripData validation complete. DataFrame shape: (3588295, 19)\n",
      "INFO:root:\n",
      "Transform dtype: Complete\n",
      " Validate: Complete\n",
      "\n",
      "INFO:root:DataFrame size: 448.29 MB\n",
      "INFO:root:Data lenght: 3588295\n"
     ]
    }
   ],
   "source": [
    "import main\n",
    "\n",
    "df = main.create_profit_table(month='05')"
   ]
  },
  {
   "cell_type": "code",
   "execution_count": 3,
   "metadata": {},
   "outputs": [],
   "source": [
    "df.to_excel('name.xlsx')"
   ]
  },
  {
   "cell_type": "code",
   "execution_count": 14,
   "metadata": {},
   "outputs": [],
   "source": [
    "def f(drange = \"\"):\n",
    "    if drange != \"\":\n",
    "        print(drange)\n",
    "    else:\n",
    "        print('date')"
   ]
  },
  {
   "cell_type": "code",
   "execution_count": 19,
   "metadata": {},
   "outputs": [
    {
     "name": "stdout",
     "output_type": "stream",
     "text": [
      "2023\n"
     ]
    }
   ],
   "source": [
    "drange = \"2023\"\n",
    "f(drange=drange)"
   ]
  }
 ],
 "metadata": {
  "kernelspec": {
   "display_name": "Python 3",
   "language": "python",
   "name": "python3"
  },
  "language_info": {
   "codemirror_mode": {
    "name": "ipython",
    "version": 3
   },
   "file_extension": ".py",
   "mimetype": "text/x-python",
   "name": "python",
   "nbconvert_exporter": "python",
   "pygments_lexer": "ipython3",
   "version": "3.10.5"
  },
  "orig_nbformat": 4
 },
 "nbformat": 4,
 "nbformat_minor": 2
}
