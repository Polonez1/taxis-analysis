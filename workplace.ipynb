{
 "cells": [
  {
   "cell_type": "code",
   "execution_count": null,
   "metadata": {},
   "outputs": [],
   "source": [
    "import matplotlib\n",
    "import seaborn as sns\n",
    "\n",
    "matplotlib.use(\"TkAgg\")\n",
    "import matplotlib.pyplot as plt\n",
    "\n",
    "import sys\n",
    "\n",
    "sys.path.append(\".\\\\scripts\\\\\")\n",
    "import load_and_save_data as Data\n",
    "import data_procedures as DPro\n",
    "import calculate as calc\n",
    "import visualisations as vs\n",
    "\n",
    "df = Data.load_data_frame(month=\"03\")\n",
    "df = (\n",
    "    df.pipe(DPro.rename_columns)\n",
    "    .pipe(DPro.join_zones)\n",
    "    .pipe(DPro.join_payment_type)\n",
    "    .pipe(DPro.drop_unnecessary_columns)\n",
    ")\n",
    "\n",
    "\n",
    "df = DPro.filtered_by_date(df)\n",
    "\n",
    "general_dataframe = (\n",
    "    df.pipe(DPro.add_week_day)\n",
    "    .pipe(DPro.get_time_groups)\n",
    "    .pipe(DPro.group_by_time_weekdays)\n",
    "    .pipe(calc.calculate_passengers_fare_index)\n",
    ")\n",
    "\n",
    "\n",
    "vs.show_heatmap(general_dataframe, by=f\"tip\")\n",
    "plt.show(block=True)\n"
   ]
  }
 ],
 "metadata": {
  "kernelspec": {
   "display_name": "Python 3",
   "language": "python",
   "name": "python3"
  },
  "language_info": {
   "codemirror_mode": {
    "name": "ipython",
    "version": 3
   },
   "file_extension": ".py",
   "mimetype": "text/x-python",
   "name": "python",
   "nbconvert_exporter": "python",
   "pygments_lexer": "ipython3",
   "version": "3.10.5"
  },
  "orig_nbformat": 4
 },
 "nbformat": 4,
 "nbformat_minor": 2
}
